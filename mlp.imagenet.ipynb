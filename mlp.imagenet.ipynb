{
 "nbformat": 4,
 "nbformat_minor": 0,
 "metadata": {
  "colab": {
   "provenance": []
  },
  "kernelspec": {
   "name": "python3",
   "language": "python",
   "display_name": "Python 3 (ipykernel)"
  },
  "language_info": {
   "name": "python"
  },
  "accelerator": "GPU",
  "gpuClass": "standard"
 },
 "cells": [
  {
   "cell_type": "raw",
   "source": [
    "# Prepare Required Files and Dependencies"
   ],
   "metadata": {
    "collapsed": false
   }
  },
  {
   "cell_type": "code",
   "source": [
    "!git clone https://github.com/dmc27/missing_pixels.git"
   ],
   "metadata": {
    "id": "FgJjOnohaU1F",
    "colab": {
     "base_uri": "https://localhost:8080/"
    },
    "outputId": "290e5950-7233-410c-81e9-f6cd009f0eb1",
    "ExecuteTime": {
     "end_time": "2023-07-20T04:35:38.510940Z",
     "start_time": "2023-07-20T04:35:38.363667Z"
    }
   },
   "execution_count": 1,
   "outputs": [
    {
     "name": "stdout",
     "output_type": "stream",
     "text": [
      "fatal: destination path 'missing_pixels' already exists and is not an empty directory.\r\n"
     ]
    }
   ]
  },
  {
   "cell_type": "code",
   "metadata": {
    "id": "-TrLL-7WrfUW",
    "ExecuteTime": {
     "end_time": "2023-07-20T04:35:43.945487Z",
     "start_time": "2023-07-20T04:35:38.511736Z"
    }
   },
   "source": [
    "from os import listdir\n",
    "from os.path import isfile\n",
    "\n",
    "from tensorflow.keras.models import Sequential\n",
    "from tensorflow.keras.layers import Dense\n",
    "from keras.callbacks import ModelCheckpoint\n",
    "\n",
    "from utils import *"
   ],
   "execution_count": 2,
   "outputs": []
  },
  {
   "cell_type": "code",
   "execution_count": 3,
   "outputs": [],
   "source": [
    "# Suppress warnings\n",
    "import warnings\n",
    "warnings.filterwarnings('ignore')"
   ],
   "metadata": {
    "collapsed": false,
    "ExecuteTime": {
     "end_time": "2023-07-20T04:35:43.947181Z",
     "start_time": "2023-07-20T04:35:43.945786Z"
    }
   }
  },
  {
   "cell_type": "markdown",
   "source": [
    "# Data Preparation"
   ],
   "metadata": {
    "collapsed": false
   }
  },
  {
   "cell_type": "code",
   "execution_count": 4,
   "outputs": [
    {
     "name": "stdout",
     "output_type": "stream",
     "text": [
      "['a129163a-1510-489e-b306-f237a3461a33.JPEG', '50da7dac-05ba-4076-8620-31a8d7d730c4.JPEG', '8f2897e9-064b-4196-8e4b-1a331d0d4eb9.JPEG', '6f9b06f7-ef38-4426-9145-0adbd9063a52.JPEG', '1c1989f5-9a3c-4144-863d-cd8c49846057.JPEG', '2f88edb2-59c2-4c89-8719-ba07d95b6b7e.JPEG', 'b54bd8cc-b55c-457d-a479-8caf406b4558.JPEG', '0330d07c-e862-4c64-887a-40e77173edb6.JPEG', '3c8ca092-7a15-4425-9374-9039b1d3deb2.JPEG', '109d6069-67f6-49a7-969b-5b0ece65b149.JPEG', 'f83a5166-b889-4e5c-8065-c1998f8c6438.JPEG', '793a9653-7003-4cfa-93fd-6008d668eb6a.JPEG', '3722a54b-4aeb-4e8c-934a-c9156eb97e11.JPEG', '6244eeef-4970-471c-903a-2f241ecc492e.JPEG', '654d55d9-f3f0-41b4-a8b4-8828638eca46.JPEG', '67adc637-b58c-49c2-9424-93f61a64d8c0.JPEG', '5068b8f5-e7c2-4dc3-9494-0b109d393ea8.JPEG', 'bece99d3-2c47-41a4-b2c3-1ac30806cd77.JPEG', 'b501b44a-ae5c-4884-818d-816f8b0084e3.JPEG', 'a6ab1b64-db5d-4d2f-85e8-26ac2bc99dd0.JPEG']\n"
     ]
    }
   ],
   "source": [
    "img_path = \"datasets\"\n",
    "img_fnames = [f for f in listdir(img_path) if isfile(join(img_path, f))]\n",
    "print(img_fnames[:20])"
   ],
   "metadata": {
    "collapsed": false,
    "ExecuteTime": {
     "end_time": "2023-07-20T04:36:30.870945Z",
     "start_time": "2023-07-20T04:36:29.795860Z"
    }
   }
  },
  {
   "cell_type": "code",
   "metadata": {
    "id": "fj0yoAQqhaGj",
    "colab": {
     "base_uri": "https://localhost:8080/",
     "height": 334
    },
    "outputId": "8c9ab57f-f06d-4467-e8c7-17350c413c11",
    "ExecuteTime": {
     "end_time": "2023-07-20T04:39:12.587389Z",
     "start_time": "2023-07-20T04:36:52.518809Z"
    }
   },
   "source": [
    "inputs = []\n",
    "targets = []\n",
    "for img_fname in img_fnames:\n",
    "    img = cv.imread(join(img_path, img_fname), cv.IMREAD_GRAYSCALE)\n",
    "    img = img.astype(np.float64)\n",
    "\n",
    "    do_parse_img(img, inputs, targets)\n",
    "\n",
    "X_train = np.zeros((len(inputs), NUM_INP_NODES))\n",
    "y_train = np.zeros((len(targets), NUM_OUT_NODES))\n",
    "for idx in range(len(inputs)):\n",
    "    X_train[idx, :] = inputs[idx]\n",
    "    y_train[idx] = targets[idx]"
   ],
   "execution_count": 5,
   "outputs": []
  },
  {
   "cell_type": "code",
   "execution_count": 6,
   "outputs": [
    {
     "name": "stdout",
     "output_type": "stream",
     "text": [
      "(7680000, 60)\n"
     ]
    }
   ],
   "source": [
    "print(X_train.shape)"
   ],
   "metadata": {
    "collapsed": false,
    "ExecuteTime": {
     "end_time": "2023-07-20T04:39:12.592449Z",
     "start_time": "2023-07-20T04:39:12.587909Z"
    }
   }
  },
  {
   "cell_type": "markdown",
   "source": [
    "# Modeling"
   ],
   "metadata": {
    "collapsed": false
   }
  },
  {
   "cell_type": "code",
   "metadata": {
    "id": "ViU9OXjdJ7tP",
    "colab": {
     "base_uri": "https://localhost:8080/",
     "height": 1000
    },
    "outputId": "2d43c584-569f-4832-ce9d-a64c34f82883",
    "ExecuteTime": {
     "end_time": "2023-07-20T04:41:23.069133Z",
     "start_time": "2023-07-20T04:41:22.526850Z"
    }
   },
   "source": [
    "model_fname = \"models/model.mlp.imagenet.h5\"\n",
    "\n",
    "model = Sequential([\n",
    "    Dense(120, input_shape=(NUM_INP_NODES,), activation=\"relu\"),\n",
    "    Dense(60, activation=\"relu\"),\n",
    "    Dense(NUM_OUT_NODES, activation='sigmoid')\n",
    "])\n",
    "\n",
    "model.compile(loss=\"mean_squared_error\", optimizer=\"adam\",\n",
    "              metrics=[\"accuracy\"])\n",
    "\n",
    "model.summary()"
   ],
   "execution_count": 7,
   "outputs": [
    {
     "name": "stdout",
     "output_type": "stream",
     "text": [
      "Model: \"sequential\"\n",
      "_________________________________________________________________\n",
      " Layer (type)                Output Shape              Param #   \n",
      "=================================================================\n",
      " dense (Dense)               (None, 120)               7320      \n",
      "                                                                 \n",
      " dense_1 (Dense)             (None, 60)                7260      \n",
      "                                                                 \n",
      " dense_2 (Dense)             (None, 4)                 244       \n",
      "                                                                 \n",
      "=================================================================\n",
      "Total params: 14824 (57.91 KB)\n",
      "Trainable params: 14824 (57.91 KB)\n",
      "Non-trainable params: 0 (0.00 Byte)\n",
      "_________________________________________________________________\n"
     ]
    },
    {
     "name": "stderr",
     "output_type": "stream",
     "text": [
      "2023-07-20 13:41:22.942555: I metal_plugin/src/device/metal_device.cc:1154] Metal device set to: Apple M2 Max\n",
      "2023-07-20 13:41:22.942579: I metal_plugin/src/device/metal_device.cc:296] systemMemory: 64.00 GB\n",
      "2023-07-20 13:41:22.942586: I metal_plugin/src/device/metal_device.cc:313] maxCacheSize: 24.00 GB\n",
      "2023-07-20 13:41:22.942650: I tensorflow/core/common_runtime/pluggable_device/pluggable_device_factory.cc:303] Could not identify NUMA node of platform GPU ID 0, defaulting to 0. Your kernel may not have been built with NUMA support.\n",
      "2023-07-20 13:41:22.942679: I tensorflow/core/common_runtime/pluggable_device/pluggable_device_factory.cc:269] Created TensorFlow device (/job:localhost/replica:0/task:0/device:GPU:0 with 0 MB memory) -> physical PluggableDevice (device: 0, name: METAL, pci bus id: <undefined>)\n"
     ]
    }
   ]
  },
  {
   "cell_type": "code",
   "metadata": {
    "id": "zanqySueMdYQ",
    "colab": {
     "base_uri": "https://localhost:8080/",
     "height": 994
    },
    "outputId": "b7f35426-63ad-4188-a285-65d57cc4f5af",
    "is_executing": true,
    "ExecuteTime": {
     "start_time": "2023-07-20T04:41:29.791322Z"
    }
   },
   "source": [
    "checkpoint = ModelCheckpoint(model_fname, monitor='loss', verbose=1,\n",
    "                             save_best_only=True)\n",
    "callbacks_list = [checkpoint]\n",
    "\n",
    "history = model.fit(X_train, y_train, epochs=100, batch_size=512,\n",
    "                    validation_split=0.1, callbacks=callbacks_list)"
   ],
   "execution_count": null,
   "outputs": [
    {
     "name": "stdout",
     "output_type": "stream",
     "text": [
      "Epoch 1/100\n",
      "    1/13500 [..............................] - ETA: 1:05:54 - loss: 0.0882 - accuracy: 0.2715"
     ]
    },
    {
     "name": "stderr",
     "output_type": "stream",
     "text": [
      "2023-07-20 13:41:30.655534: I tensorflow/core/grappler/optimizers/custom_graph_optimizer_registry.cc:114] Plugin optimizer for device_type GPU is enabled.\n"
     ]
    },
    {
     "name": "stdout",
     "output_type": "stream",
     "text": [
      "13495/13500 [============================>.] - ETA: 0s - loss: 0.0175 - accuracy: 0.3676"
     ]
    },
    {
     "name": "stderr",
     "output_type": "stream",
     "text": [
      "2023-07-20 13:42:20.095622: I tensorflow/core/grappler/optimizers/custom_graph_optimizer_registry.cc:114] Plugin optimizer for device_type GPU is enabled.\n"
     ]
    },
    {
     "name": "stdout",
     "output_type": "stream",
     "text": [
      "\n",
      "Epoch 1: loss improved from inf to 0.01753, saving model to models/model.mlp.h5\n",
      "13500/13500 [==============================] - 53s 4ms/step - loss: 0.0175 - accuracy: 0.3676 - val_loss: 0.0150 - val_accuracy: 0.3490\n",
      "Epoch 2/100\n",
      "13487/13500 [============================>.] - ETA: 0s - loss: 0.0793 - accuracy: 0.2896\n",
      "Epoch 2: loss did not improve from 0.01753\n",
      "13500/13500 [==============================] - 52s 4ms/step - loss: 0.0793 - accuracy: 0.2896 - val_loss: 0.1325 - val_accuracy: 0.2860\n",
      "Epoch 3/100\n",
      "13493/13500 [============================>.] - ETA: 0s - loss: 0.1241 - accuracy: 0.2869\n",
      "Epoch 3: loss did not improve from 0.01753\n",
      "13500/13500 [==============================] - 51s 4ms/step - loss: 0.1241 - accuracy: 0.2869 - val_loss: 0.1527 - val_accuracy: 0.2963\n",
      "Epoch 4/100\n",
      "13499/13500 [============================>.] - ETA: 0s - loss: 0.1186 - accuracy: 0.2909\n",
      "Epoch 4: loss did not improve from 0.01753\n",
      "13500/13500 [==============================] - 50s 4ms/step - loss: 0.1186 - accuracy: 0.2909 - val_loss: 0.1209 - val_accuracy: 0.2661\n",
      "Epoch 5/100\n",
      "13493/13500 [============================>.] - ETA: 0s - loss: 0.1176 - accuracy: 0.2986\n",
      "Epoch 5: loss did not improve from 0.01753\n",
      "13500/13500 [==============================] - 50s 4ms/step - loss: 0.1176 - accuracy: 0.2986 - val_loss: 0.1291 - val_accuracy: 0.2889\n",
      "Epoch 6/100\n",
      "13491/13500 [============================>.] - ETA: 0s - loss: 0.1253 - accuracy: 0.3109\n",
      "Epoch 6: loss did not improve from 0.01753\n",
      "13500/13500 [==============================] - 50s 4ms/step - loss: 0.1253 - accuracy: 0.3109 - val_loss: 0.1257 - val_accuracy: 0.3309\n",
      "Epoch 7/100\n",
      "13495/13500 [============================>.] - ETA: 0s - loss: 0.1247 - accuracy: 0.3096\n",
      "Epoch 7: loss did not improve from 0.01753\n",
      "13500/13500 [==============================] - 50s 4ms/step - loss: 0.1247 - accuracy: 0.3096 - val_loss: 0.1237 - val_accuracy: 0.3131\n",
      "Epoch 8/100\n",
      "13492/13500 [============================>.] - ETA: 0s - loss: 0.1239 - accuracy: 0.3095\n",
      "Epoch 8: loss did not improve from 0.01753\n",
      "13500/13500 [==============================] - 51s 4ms/step - loss: 0.1239 - accuracy: 0.3095 - val_loss: 0.1247 - val_accuracy: 0.3222\n",
      "Epoch 9/100\n",
      "13488/13500 [============================>.] - ETA: 0s - loss: 0.1230 - accuracy: 0.3081\n",
      "Epoch 9: loss did not improve from 0.01753\n",
      "13500/13500 [==============================] - 51s 4ms/step - loss: 0.1230 - accuracy: 0.3081 - val_loss: 0.1273 - val_accuracy: 0.2958\n",
      "Epoch 10/100\n",
      "13490/13500 [============================>.] - ETA: 0s - loss: 0.1225 - accuracy: 0.3079\n",
      "Epoch 10: loss did not improve from 0.01753\n",
      "13500/13500 [==============================] - 51s 4ms/step - loss: 0.1225 - accuracy: 0.3079 - val_loss: 0.1192 - val_accuracy: 0.3064\n",
      "Epoch 11/100\n",
      "13498/13500 [============================>.] - ETA: 0s - loss: 0.1222 - accuracy: 0.3085\n",
      "Epoch 11: loss did not improve from 0.01753\n",
      "13500/13500 [==============================] - 54s 4ms/step - loss: 0.1222 - accuracy: 0.3085 - val_loss: 0.1189 - val_accuracy: 0.3098\n",
      "Epoch 12/100\n",
      "13492/13500 [============================>.] - ETA: 0s - loss: 0.1218 - accuracy: 0.3077\n",
      "Epoch 12: loss did not improve from 0.01753\n",
      "13500/13500 [==============================] - 54s 4ms/step - loss: 0.1218 - accuracy: 0.3077 - val_loss: 0.1197 - val_accuracy: 0.3081\n",
      "Epoch 13/100\n",
      "13499/13500 [============================>.] - ETA: 0s - loss: 0.1215 - accuracy: 0.3084\n",
      "Epoch 13: loss did not improve from 0.01753\n",
      "13500/13500 [==============================] - 54s 4ms/step - loss: 0.1215 - accuracy: 0.3084 - val_loss: 0.1204 - val_accuracy: 0.3035\n",
      "Epoch 14/100\n",
      "13498/13500 [============================>.] - ETA: 0s - loss: 0.1216 - accuracy: 0.3084\n",
      "Epoch 14: loss did not improve from 0.01753\n",
      "13500/13500 [==============================] - 51s 4ms/step - loss: 0.1216 - accuracy: 0.3084 - val_loss: 0.1211 - val_accuracy: 0.3153\n",
      "Epoch 15/100\n",
      "13492/13500 [============================>.] - ETA: 0s - loss: 0.1210 - accuracy: 0.3081\n",
      "Epoch 15: loss did not improve from 0.01753\n",
      "13500/13500 [==============================] - 50s 4ms/step - loss: 0.1210 - accuracy: 0.3081 - val_loss: 0.1199 - val_accuracy: 0.3060\n",
      "Epoch 16/100\n",
      "13410/13500 [============================>.] - ETA: 0s - loss: 0.1212 - accuracy: 0.3081"
     ]
    }
   ]
  },
  {
   "cell_type": "code",
   "execution_count": null,
   "outputs": [],
   "source": [
    "plot_training_history(history)"
   ],
   "metadata": {
    "collapsed": false,
    "is_executing": true
   }
  },
  {
   "cell_type": "markdown",
   "source": [
    "# Evaluation"
   ],
   "metadata": {
    "collapsed": false
   }
  },
  {
   "cell_type": "code",
   "execution_count": null,
   "outputs": [],
   "source": [
    "evaluate_mlp(model)"
   ],
   "metadata": {
    "collapsed": false,
    "is_executing": true
   }
  }
 ]
}
