{
 "cells": [
  {
   "cell_type": "markdown",
   "source": [
    "# Prepare Required Dependencies"
   ],
   "metadata": {
    "collapsed": false
   }
  },
  {
   "cell_type": "code",
   "execution_count": 1,
   "outputs": [],
   "source": [
    "# Install these if needed\n",
    "# !pip install diffusers transformers accelerate"
   ],
   "metadata": {
    "collapsed": false,
    "ExecuteTime": {
     "end_time": "2023-07-19T10:55:14.627834Z",
     "start_time": "2023-07-19T10:55:14.624946Z"
    }
   }
  },
  {
   "cell_type": "code",
   "execution_count": 47,
   "outputs": [],
   "source": [
    "import os\n",
    "from diffusers import StableDiffusionInpaintPipeline, StableDiffusionImg2ImgPipeline\n",
    "import torch\n",
    "import torchvision.transforms as transforms\n",
    "import cv2 as cv\n",
    "from PIL import Image"
   ],
   "metadata": {
    "collapsed": false,
    "ExecuteTime": {
     "end_time": "2023-07-19T11:02:45.169254Z",
     "start_time": "2023-07-19T11:02:45.165425Z"
    }
   }
  },
  {
   "cell_type": "code",
   "execution_count": 3,
   "outputs": [],
   "source": [
    "# Suppress warnings\n",
    "import warnings\n",
    "warnings.filterwarnings('ignore')"
   ],
   "metadata": {
    "collapsed": false,
    "ExecuteTime": {
     "end_time": "2023-07-19T10:55:18.041653Z",
     "start_time": "2023-07-19T10:55:18.039675Z"
    }
   }
  },
  {
   "cell_type": "markdown",
   "source": [
    "# Data Preparation"
   ],
   "metadata": {
    "collapsed": false
   }
  },
  {
   "cell_type": "code",
   "execution_count": 12,
   "outputs": [],
   "source": [
    "PATCH_SIZE = 8\n",
    "\n",
    "def generate_mask_from_image(img):\n",
    "    m = torch.zeros([img.shape[0], img.shape[1]])\n",
    "    for i in range(0, m.shape[0], PATCH_SIZE):\n",
    "        for j in range(0, m.shape[1], PATCH_SIZE):\n",
    "            m[i:i + PATCH_SIZE, j:j + PATCH_SIZE][3:5, 3:5] = 1.0\n",
    "\n",
    "    return m"
   ],
   "metadata": {
    "collapsed": false,
    "ExecuteTime": {
     "end_time": "2023-07-19T10:56:08.857076Z",
     "start_time": "2023-07-19T10:56:08.854202Z"
    }
   }
  },
  {
   "cell_type": "code",
   "execution_count": 13,
   "outputs": [],
   "source": [
    "input_transform = transforms.Compose([\n",
    "    transforms.PILToTensor()\n",
    "])\n",
    "\n",
    "output_transform = transforms.Compose([\n",
    "    transforms.ToPILImage()\n",
    "])"
   ],
   "metadata": {
    "collapsed": false,
    "ExecuteTime": {
     "end_time": "2023-07-19T10:56:09.646640Z",
     "start_time": "2023-07-19T10:56:09.641068Z"
    }
   }
  },
  {
   "cell_type": "code",
   "execution_count": 38,
   "outputs": [],
   "source": [
    "img_path = \"missing_pixels/balloon.bmp\""
   ],
   "metadata": {
    "collapsed": false,
    "ExecuteTime": {
     "end_time": "2023-07-19T11:02:00.110559Z",
     "start_time": "2023-07-19T11:02:00.107490Z"
    }
   }
  },
  {
   "cell_type": "code",
   "execution_count": 39,
   "outputs": [],
   "source": [
    "img = cv.imread(img_path, cv.IMREAD_GRAYSCALE)\n",
    "img = cv.resize(img, (256, 256), cv.INTER_LINEAR)"
   ],
   "metadata": {
    "collapsed": false,
    "ExecuteTime": {
     "end_time": "2023-07-19T11:02:00.415432Z",
     "start_time": "2023-07-19T11:02:00.410301Z"
    }
   }
  },
  {
   "cell_type": "code",
   "execution_count": 40,
   "outputs": [],
   "source": [
    "if not os.path.exists(\"./images\"):\n",
    "    os.makedirs(\"./images\")"
   ],
   "metadata": {
    "collapsed": false,
    "ExecuteTime": {
     "end_time": "2023-07-19T11:02:00.775802Z",
     "start_time": "2023-07-19T11:02:00.773104Z"
    }
   }
  },
  {
   "cell_type": "code",
   "execution_count": 41,
   "outputs": [
    {
     "data": {
      "text/plain": "True"
     },
     "execution_count": 41,
     "metadata": {},
     "output_type": "execute_result"
    }
   ],
   "source": [
    "cv.imwrite(\"./images/input.png\", img)"
   ],
   "metadata": {
    "collapsed": false,
    "ExecuteTime": {
     "end_time": "2023-07-19T11:02:01.399922Z",
     "start_time": "2023-07-19T11:02:01.394369Z"
    }
   }
  },
  {
   "cell_type": "code",
   "execution_count": 42,
   "outputs": [],
   "source": [
    "mask = generate_mask_from_image(img)\n",
    "mask_image = output_transform(mask)"
   ],
   "metadata": {
    "collapsed": false,
    "ExecuteTime": {
     "end_time": "2023-07-19T11:02:01.903187Z",
     "start_time": "2023-07-19T11:02:01.896338Z"
    }
   }
  },
  {
   "cell_type": "code",
   "execution_count": 43,
   "outputs": [],
   "source": [
    "mask_image.save(\"./images/mask.png\")"
   ],
   "metadata": {
    "collapsed": false,
    "ExecuteTime": {
     "end_time": "2023-07-19T11:02:02.942126Z",
     "start_time": "2023-07-19T11:02:02.938483Z"
    }
   }
  },
  {
   "cell_type": "markdown",
   "source": [
    "# Model Prediction"
   ],
   "metadata": {
    "collapsed": false
   }
  },
  {
   "cell_type": "code",
   "execution_count": 48,
   "outputs": [],
   "source": [
    "input_img = Image.open(\"./images/input.png\")\n",
    "mask_img = Image.open(\"./images/mask.png\")"
   ],
   "metadata": {
    "collapsed": false,
    "ExecuteTime": {
     "end_time": "2023-07-19T11:02:47.519591Z",
     "start_time": "2023-07-19T11:02:47.514338Z"
    }
   }
  },
  {
   "cell_type": "code",
   "execution_count": 4,
   "outputs": [
    {
     "name": "stdout",
     "output_type": "stream",
     "text": [
      "device:  mps\n"
     ]
    }
   ],
   "source": [
    "device = torch.device(\n",
    "    \"cuda\" if torch.cuda.is_available() else \"mps\" if torch.backends.mps.is_available() and torch.backends.mps.is_built() else \"cpu\")\n",
    "print(\"device: \", device)"
   ],
   "metadata": {
    "collapsed": false,
    "ExecuteTime": {
     "end_time": "2023-07-19T10:55:18.044115Z",
     "start_time": "2023-07-19T10:55:18.042338Z"
    }
   }
  },
  {
   "cell_type": "markdown",
   "source": [
    "## Inpainting model"
   ],
   "metadata": {
    "collapsed": false
   }
  },
  {
   "cell_type": "code",
   "execution_count": 5,
   "outputs": [
    {
     "name": "stderr",
     "output_type": "stream",
     "text": [
      "vae/diffusion_pytorch_model.safetensors not found\n",
      "`text_config_dict` is provided which will be used to initialize `CLIPTextConfig`. The value `text_config[\"id2label\"]` will be overriden.\n",
      "`text_config_dict` is provided which will be used to initialize `CLIPTextConfig`. The value `text_config[\"bos_token_id\"]` will be overriden.\n",
      "`text_config_dict` is provided which will be used to initialize `CLIPTextConfig`. The value `text_config[\"eos_token_id\"]` will be overriden.\n"
     ]
    }
   ],
   "source": [
    "inpainting_model = \"runwayml/stable-diffusion-inpainting\"\n",
    "inpainting_pipe = StableDiffusionInpaintPipeline.from_pretrained(inpainting_model).to(device)"
   ],
   "metadata": {
    "collapsed": false,
    "ExecuteTime": {
     "end_time": "2023-07-19T10:55:21.123432Z",
     "start_time": "2023-07-19T10:55:18.063727Z"
    }
   }
  },
  {
   "cell_type": "code",
   "execution_count": 53,
   "outputs": [
    {
     "data": {
      "text/plain": "  0%|          | 0/50 [00:00<?, ?it/s]",
      "application/vnd.jupyter.widget-view+json": {
       "version_major": 2,
       "version_minor": 0,
       "model_id": "a51d39198c4540bcb6db67302041fa91"
      }
     },
     "metadata": {},
     "output_type": "display_data"
    }
   ],
   "source": [
    "prompt = \"high , black and white\"\n",
    "out_img = inpainting_pipe(prompt=prompt, image=input_img, mask_image=mask_img).images[0]\n",
    "out_img.resize((256, 256)).save(\"./images/inpainting_output.png\")"
   ],
   "metadata": {
    "collapsed": false,
    "ExecuteTime": {
     "end_time": "2023-07-19T11:09:30.857369Z",
     "start_time": "2023-07-19T11:09:13.415467Z"
    }
   }
  }
 ],
 "metadata": {
  "kernelspec": {
   "display_name": "Python 3",
   "language": "python",
   "name": "python3"
  },
  "language_info": {
   "codemirror_mode": {
    "name": "ipython",
    "version": 2
   },
   "file_extension": ".py",
   "mimetype": "text/x-python",
   "name": "python",
   "nbconvert_exporter": "python",
   "pygments_lexer": "ipython2",
   "version": "2.7.6"
  }
 },
 "nbformat": 4,
 "nbformat_minor": 0
}
